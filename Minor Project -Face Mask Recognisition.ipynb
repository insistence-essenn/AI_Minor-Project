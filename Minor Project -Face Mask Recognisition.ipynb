{
 "cells": [
  {
   "cell_type": "code",
   "execution_count": 5,
   "metadata": {},
   "outputs": [],
   "source": [
    "from tensorflow.keras.optimizers import RMSprop\n",
    "from tensorflow.keras.preprocessing.image import ImageDataGenerator\n",
    "import cv2\n",
    "from tensorflow.keras.models import Sequential\n",
    "from tensorflow.keras.layers import Conv2D, Input, ZeroPadding2D, BatchNormalization, Activation, MaxPooling2D, Flatten, Dense,Dropout\n",
    "from tensorflow.keras.models import Model, load_model\n",
    "from tensorflow.keras.callbacks import TensorBoard, ModelCheckpoint\n",
    "from sklearn.model_selection import train_test_split\n",
    "from sklearn.metrics import f1_score\n",
    "from sklearn.utils import shuffle\n",
    "import imutils\n",
    "import numpy as np"
   ]
  },
  {
   "cell_type": "code",
   "execution_count": 6,
   "metadata": {},
   "outputs": [],
   "source": [
    "model = Sequential([\n",
    "    Conv2D(100, (3,3), activation='relu', input_shape=(150, 150, 3)),\n",
    "    MaxPooling2D(2,2),\n",
    "    \n",
    "    Conv2D(100, (3,3), activation='relu'),\n",
    "    MaxPooling2D(2,2),\n",
    "    \n",
    "    Flatten(),\n",
    "    Dropout(0.5),\n",
    "    Dense(50, activation='relu'),\n",
    "    Dense(2, activation='softmax')\n",
    "])\n",
    "model.compile(optimizer='adam', loss='binary_crossentropy', metrics=['acc'])"
   ]
  },
  {
   "cell_type": "code",
   "execution_count": 7,
   "metadata": {},
   "outputs": [
    {
     "name": "stdout",
     "output_type": "stream",
     "text": [
      "Found 1376 images belonging to 2 classes.\n",
      "Found 1376 images belonging to 2 classes.\n"
     ]
    }
   ],
   "source": [
    "TRAINING_DIR = \"/home/sourjayon/dataset\"\n",
    "train_datagen = ImageDataGenerator(rescale=1.0/255,\n",
    "                                   rotation_range=40,\n",
    "                                   width_shift_range=0.2,\n",
    "                                   height_shift_range=0.2,\n",
    "                                   shear_range=0.2,\n",
    "                                   zoom_range=0.2,\n",
    "                                   horizontal_flip=True,\n",
    "                                   fill_mode='nearest')\n",
    "\n",
    "train_generator = train_datagen.flow_from_directory(TRAINING_DIR, \n",
    "                                                    batch_size=10, \n",
    "                                                    target_size=(150, 150))\n",
    "VALIDATION_DIR = \"/home/sourjayon/dataset\"\n",
    "validation_datagen = ImageDataGenerator(rescale=1.0/255)\n",
    "\n",
    "validation_generator = validation_datagen.flow_from_directory(VALIDATION_DIR, \n",
    "                                                         batch_size=10, \n",
    "                                                         target_size=(150, 150))"
   ]
  },
  {
   "cell_type": "code",
   "execution_count": 8,
   "metadata": {},
   "outputs": [],
   "source": [
    "checkpoint = ModelCheckpoint('model2-{epoch:03d}.model',monitor='val_loss',verbose=0,save_best_only=True,mode='auto')"
   ]
  },
  {
   "cell_type": "code",
   "execution_count": 9,
   "metadata": {},
   "outputs": [
    {
     "name": "stdout",
     "output_type": "stream",
     "text": [
      "Epoch 1/8\n",
      "138/138 [==============================] - ETA: 0s - loss: 0.5979 - acc: 0.6621"
     ]
    },
    {
     "name": "stderr",
     "output_type": "stream",
     "text": [
      "2022-04-11 14:10:33.441374: W tensorflow/python/util/util.cc:368] Sets are not currently considered sequences, but this may change in the future, so consider avoiding using them.\n"
     ]
    },
    {
     "name": "stdout",
     "output_type": "stream",
     "text": [
      "INFO:tensorflow:Assets written to: model2-001.model/assets\n",
      "138/138 [==============================] - 37s 267ms/step - loss: 0.5979 - acc: 0.6621 - val_loss: 0.2876 - val_acc: 0.9433\n",
      "Epoch 2/8\n",
      "138/138 [==============================] - ETA: 0s - loss: 0.3991 - acc: 0.8619INFO:tensorflow:Assets written to: model2-002.model/assets\n",
      "138/138 [==============================] - 37s 265ms/step - loss: 0.3991 - acc: 0.8619 - val_loss: 0.2052 - val_acc: 0.9462\n",
      "Epoch 3/8\n",
      "138/138 [==============================] - ETA: 0s - loss: 0.2801 - acc: 0.8997INFO:tensorflow:Assets written to: model2-003.model/assets\n",
      "138/138 [==============================] - 36s 263ms/step - loss: 0.2801 - acc: 0.8997 - val_loss: 0.1806 - val_acc: 0.9273\n",
      "Epoch 4/8\n",
      "138/138 [==============================] - ETA: 0s - loss: 0.2965 - acc: 0.8794INFO:tensorflow:Assets written to: model2-004.model/assets\n",
      "138/138 [==============================] - 37s 266ms/step - loss: 0.2965 - acc: 0.8794 - val_loss: 0.1135 - val_acc: 0.9680\n",
      "Epoch 5/8\n",
      "138/138 [==============================] - ETA: 0s - loss: 0.2166 - acc: 0.9164INFO:tensorflow:Assets written to: model2-005.model/assets\n",
      "138/138 [==============================] - 36s 262ms/step - loss: 0.2166 - acc: 0.9164 - val_loss: 0.1040 - val_acc: 0.9702\n",
      "Epoch 6/8\n",
      "138/138 [==============================] - 35s 256ms/step - loss: 0.2142 - acc: 0.9172 - val_loss: 0.1449 - val_acc: 0.9586\n",
      "Epoch 7/8\n",
      "138/138 [==============================] - ETA: 0s - loss: 0.1796 - acc: 0.9302INFO:tensorflow:Assets written to: model2-007.model/assets\n",
      "138/138 [==============================] - 36s 261ms/step - loss: 0.1796 - acc: 0.9302 - val_loss: 0.0746 - val_acc: 0.9724\n",
      "Epoch 8/8\n",
      "138/138 [==============================] - ETA: 0s - loss: 0.1595 - acc: 0.9426INFO:tensorflow:Assets written to: model2-008.model/assets\n",
      "138/138 [==============================] - 36s 264ms/step - loss: 0.1595 - acc: 0.9426 - val_loss: 0.0539 - val_acc: 0.9782\n"
     ]
    }
   ],
   "source": [
    "history = model.fit(train_generator,\n",
    "                              epochs=8,\n",
    "                              validation_data=validation_generator,\n",
    "                              callbacks=[checkpoint])"
   ]
  },
  {
   "cell_type": "code",
   "execution_count": 11,
   "metadata": {},
   "outputs": [],
   "source": [
    "model.save('./model-010.h5')"
   ]
  },
  {
   "cell_type": "code",
   "execution_count": null,
   "metadata": {},
   "outputs": [],
   "source": [
    "import cv2\n",
    "import numpy as np\n",
    "from tensorflow.keras.models import load_model\n",
    "model=load_model(\"./model-010.h5\")\n",
    "\n",
    "labels_dict={0:'without_mask',1:'mask'}\n",
    "color_dict={0:(0,0,255),1:(0,255,0)}\n",
    "\n",
    "size = 4\n",
    "webcam = cv2.VideoCapture(0) \n",
    "\n",
    "\n",
    "classifier = cv2.CascadeClassifier('/home/sourjayon/haarcascade_frontalface_default.xml')\n",
    "\n",
    "while True:\n",
    "    (rval, im) = webcam.read()\n",
    "    im=cv2.flip(im,1,1)\n",
    "\n",
    "    mini = cv2.resize(im, (im.shape[1] // size, im.shape[0] // size))\n",
    "\n",
    "    faces = classifier.detectMultiScale(mini)\n",
    "\n",
    "    for f in faces:\n",
    "        (x, y, w, h) = [v * size for v in f]\n",
    "        face_img = im[y:y+h, x:x+w]\n",
    "        resized=cv2.resize(face_img,(150,150))\n",
    "        normalized=resized/255.0\n",
    "        reshaped=np.reshape(normalized,(1,150,150,3))\n",
    "        reshaped = np.vstack([reshaped])\n",
    "        result=model.predict(reshaped)\n",
    "        \n",
    "        label=np.argmax(result,axis=1)[0]\n",
    "      \n",
    "        cv2.rectangle(im,(x,y),(x+w,y+h),color_dict[label],2)\n",
    "        cv2.rectangle(im,(x,y-40),(x+w,y),color_dict[label],-1)\n",
    "        cv2.putText(im, labels_dict[label], (x, y-10),cv2.FONT_HERSHEY_SIMPLEX,0.8,(255,255,255),2)\n",
    "        \n",
    "    cv2.imshow('LIVE',   im)\n",
    "    key = cv2.waitKey(10)\n",
    "    if key == 27: \n",
    "        break\n",
    "\n",
    "webcam.release()\n",
    "\n",
    "cv2.destroyAllWindows()"
   ]
  },
  {
   "cell_type": "code",
   "execution_count": null,
   "metadata": {},
   "outputs": [],
   "source": []
  },
  {
   "cell_type": "code",
   "execution_count": null,
   "metadata": {},
   "outputs": [],
   "source": []
  }
 ],
 "metadata": {
  "kernelspec": {
   "display_name": "Python 3 (ipykernel)",
   "language": "python",
   "name": "python3"
  },
  "language_info": {
   "codemirror_mode": {
    "name": "ipython",
    "version": 3
   },
   "file_extension": ".py",
   "mimetype": "text/x-python",
   "name": "python",
   "nbconvert_exporter": "python",
   "pygments_lexer": "ipython3",
   "version": "3.9.7"
  }
 },
 "nbformat": 4,
 "nbformat_minor": 4
}
